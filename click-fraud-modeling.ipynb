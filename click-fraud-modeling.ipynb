{
  "nbformat": 4,
  "nbformat_minor": 0,
  "metadata": {
    "kernelspec": {
      "display_name": "Python 3.7.6 64-bit ('base': conda)",
      "language": "python",
      "name": "python37664bitbasecondadd2f5abebdd542bb81c9178008418cdc"
    },
    "language_info": {
      "codemirror_mode": {
        "name": "ipython",
        "version": 3
      },
      "file_extension": ".py",
      "mimetype": "text/x-python",
      "name": "python",
      "nbconvert_exporter": "python",
      "pygments_lexer": "ipython3",
      "version": "3.7.6"
    },
    "toc-autonumbering": false,
    "toc-showcode": false,
    "toc-showmarkdowntxt": false,
    "colab": {
      "name": "click-fraud-modeling.ipynb",
      "provenance": [],
      "include_colab_link": true
    }
  },
  "cells": [
    {
      "cell_type": "markdown",
      "metadata": {
        "id": "view-in-github",
        "colab_type": "text"
      },
      "source": [
        "<a href=\"https://colab.research.google.com/github/feliperpv/click-fraud/blob/master/click-fraud-modeling.ipynb\" target=\"_parent\"><img src=\"https://colab.research.google.com/assets/colab-badge.svg\" alt=\"Open In Colab\"/></a>"
      ]
    },
    {
      "cell_type": "markdown",
      "metadata": {
        "id": "mtZ5EtUXpXqk"
      },
      "source": [
        "# Jupyter para criação do modelo"
      ]
    },
    {
      "cell_type": "markdown",
      "metadata": {
        "id": "dPmsy5vjpXqq"
      },
      "source": [
        "### Dicionário de dados\n",
        "Ref: https://www.kaggle.com/c/talkingdata-adtracking-fraud-detection/data\n",
        "\n",
        "```\n",
        "Each row of the training data contains a click record, with the following features.\n",
        "\n",
        "- ip: ip address of click.\n",
        "- app: app id for marketing.\n",
        "- device: device type id of user mobile phone (e.g., iphone 6 plus, iphone 7, huawei mate 7, etc.)\n",
        "- os: os version id of user mobile phone\n",
        "- channel: channel id of mobile ad publisher\n",
        "- click_time: timestamp of click (UTC)\n",
        "- attributed_time: if user download the app for after clicking an ad, this is the time of the app download\n",
        "- is_attributed: the target that is to be predicted, indicating the app was downloaded\n",
        "\n",
        "Note that ip, app, device, os, and channel are encoded.\n",
        "\n",
        "- click_id: reference for making predictions\n",
        "- is_attributed: not included\n",
        "```"
      ]
    },
    {
      "cell_type": "code",
      "metadata": {
        "id": "VlBTx5xcpXqr"
      },
      "source": [
        "# !pip install imbalanced-learn\n",
        "# !pip install pingouin"
      ],
      "execution_count": 1,
      "outputs": []
    },
    {
      "cell_type": "code",
      "metadata": {
        "id": "vBarJstGpXqs",
        "outputId": "0a26f3fc-078a-4c51-cd90-d0650a14dcd5",
        "colab": {
          "base_uri": "https://localhost:8080/"
        }
      },
      "source": [
        "# Packages import\n",
        "import matplotlib.pyplot as plt\n",
        "import pandas as pd\n",
        "import numpy as np\n",
        "import pingouin as pg\n",
        "\n",
        "from imblearn.over_sampling import SMOTE\n",
        "\n",
        "from sklearn.preprocessing import LabelEncoder\n",
        "from sklearn.model_selection import train_test_split\n",
        "from sklearn.ensemble import RandomForestClassifier\n",
        "from sklearn.metrics import plot_confusion_matrix, matthews_corrcoef, plot_roc_curve, accuracy_score, precision_score, recall_score, f1_score\n",
        "from sklearn.feature_selection import chi2\n",
        "\n",
        "# Definindo constantes\n",
        "seed = 1997\n",
        "target = \"target\""
      ],
      "execution_count": 2,
      "outputs": [
        {
          "output_type": "stream",
          "text": [
            "/usr/local/lib/python3.7/dist-packages/sklearn/externals/six.py:31: FutureWarning: The module is deprecated in version 0.21 and will be removed in version 0.23 since we've dropped support for Python 2.7. Please rely on the official version of six (https://pypi.org/project/six/).\n",
            "  \"(https://pypi.org/project/six/).\", FutureWarning)\n",
            "/usr/local/lib/python3.7/dist-packages/sklearn/utils/deprecation.py:144: FutureWarning: The sklearn.neighbors.base module is  deprecated in version 0.22 and will be removed in version 0.24. The corresponding classes / functions should instead be imported from sklearn.neighbors. Anything that cannot be imported from sklearn.neighbors is now part of the private API.\n",
            "  warnings.warn(message, FutureWarning)\n"
          ],
          "name": "stderr"
        }
      ]
    },
    {
      "cell_type": "markdown",
      "metadata": {
        "id": "1tvKlYlxpXqu"
      },
      "source": [
        "## Definindo Funções"
      ]
    },
    {
      "cell_type": "code",
      "metadata": {
        "id": "IFgz__r-pXqv"
      },
      "source": [
        "# Função para realizar o split de dados\n",
        "def split_dataset(df, inputs, target=target, test_size=0.30, random_state=seed):\n",
        "    X = df[inputs].values\n",
        "    y = df[[target]].values\n",
        "    return train_test_split(X, y, test_size=test_size, random_state=random_state)\n",
        "\n",
        "# Função responsável por realizar o encoding das variáveis de entrada\n",
        "def le_transform_inputs(df_original, train, test, inputs):\n",
        "    le = LabelEncoder()\n",
        "    for c in inputs:\n",
        "        le.fit(df_original[c])\n",
        "        train.loc[:, c] = le.transform(train.loc[:,c])\n",
        "        test.loc[:, c] = le.transform(test.loc[:,c])\n",
        "        \n",
        "    return train, test\n",
        "\n",
        "# Função responsável por balancear os dados\n",
        "def smote_dataset(df, target, random_state=seed):\n",
        "    smote = SMOTE(random_state=seed)\n",
        "    X = df.drop([target], axis = 1)\n",
        "    Y = df[target]\n",
        "\n",
        "    return smote.fit_sample(X, Y)\n",
        "\n",
        "# Função responsável por realizar previsões e calcular métricas do modelo\n",
        "def prediction_and_metrics(clf, X_test, y_test):\n",
        "    \"\"\"\n",
        "    Ref: https://medium.com/@arnaldog12/o-que-n%C3%A3o-te-contam-sobre-m%C3%A9tricas-de-classifica%C3%A7%C3%A3o-bin%C3%A1ria-d1834e385402\n",
        "    \"\"\"\n",
        "    print(\"Starting prediction and metrics calculation\\n\")\n",
        "    preds = clf.predict(X_test)\n",
        "    \n",
        "    # Valores possíveis:\n",
        "    # -1: errando mais do que acerta\n",
        "    # 1: acertando mais do que erra\n",
        "    # 0: próximo de 0 o classificador está \"chutando\"\n",
        "    mcc = matthews_corrcoef(y_test, preds)\n",
        "    print(f\"Matthews Correlation Coefficient (MCC): {mcc}\")\n",
        "    \n",
        "    # Indicada para datasets balanceados\n",
        "    accuracy = accuracy_score(y_test, preds)\n",
        "    print(f\"Accuracy Score: {accuracy}\")\n",
        "    \n",
        "    # Das amostras ditas POSITIVAS, quantas realmente são?\n",
        "    # Quanto você confia na predição da classe POSITIVA\n",
        "    precision = precision_score(y_test, preds)\n",
        "    print(f\"Precision Score: {precision}\")\n",
        "    \n",
        "    # Das amostras ditas NEGATIVAS, quantas realmente são?\n",
        "    # Quanto você confia na predição da classe NEGATIVA\n",
        "    precision = precision_score(y_test, preds, pos_label=0)\n",
        "    print(f\"Negative Predictive Score: {precision}\")\n",
        "    \n",
        "    # Das amostras POSITIVAS, quantas o algoritmo acertou?\n",
        "    # Quão bom o algoritmo é em acertar a classe POSITIVA\n",
        "    recall = recall_score(y_test, preds)\n",
        "    print(f\"Recall Positivo/Sensitivity Score: {recall}\")\n",
        "    \n",
        "    # Das amostras NEGATIVAS, quantas o algoritmo acertou?\n",
        "    # Quão bom o algoritmo é em acertar a classe NEGATIVA\n",
        "    recall = recall_score(y_test, preds, pos_label=0)\n",
        "    print(f\"Recall Negativo/Specificity Score: {recall}\")\n",
        "    \n",
        "    # Média harmônica da Precisão e Recall Positivo\n",
        "    # O que é melhor? \n",
        "    # Recall de 30% e precisão de 60%\n",
        "    # Recall de 20% e precisão de 100%\n",
        "    f1 = f1_score(y_test, preds)\n",
        "    print(f\"F1 Score: {f1}\")\n",
        "\n",
        "    print(\"\\nCONFUSION MATRIX\")\n",
        "    plot_confusion_matrix(clf, X_test, y_test, values_format=\"d\")\n",
        "    plt.show()\n",
        "    \n",
        "    print(\"\\nROC CURVE\")\n",
        "    plot_roc_curve(clf, X_test, y_test)\n",
        "    plt.show()"
      ],
      "execution_count": 3,
      "outputs": []
    },
    {
      "cell_type": "markdown",
      "metadata": {
        "id": "A0VRiPiypXqw"
      },
      "source": [
        "## Importando dados"
      ]
    },
    {
      "cell_type": "code",
      "metadata": {
        "colab": {
          "base_uri": "https://localhost:8080/"
        },
        "id": "KA4Fz2cvpXqw",
        "outputId": "4f7d64e5-dabf-4f74-f510-52c727aecfd0"
      },
      "source": [
        "data = pd.read_csv(\"https://raw.githubusercontent.com/feliperpv/click-fraud/master/data.csv\", \n",
        "                   parse_dates=['click_time', 'attributed_time'],\n",
        "                   dtype={\n",
        "                       'ip': 'category',\n",
        "                       'app': 'category',\n",
        "                       'device': 'category',\n",
        "                       'os': 'category',\n",
        "                       'channel': 'category',\n",
        "                       'is_attributed': 'str'}\n",
        "                   )\n",
        "data.shape"
      ],
      "execution_count": 4,
      "outputs": [
        {
          "output_type": "execute_result",
          "data": {
            "text/plain": [
              "(100000, 8)"
            ]
          },
          "metadata": {
            "tags": []
          },
          "execution_count": 4
        }
      ]
    },
    {
      "cell_type": "code",
      "metadata": {
        "id": "L4qVp81cpXqy"
      },
      "source": [
        "data.columns = ['ip', 'app', 'device', 'os', 'channel', 'click_time', 'attributed_time', 'target']"
      ],
      "execution_count": 5,
      "outputs": []
    },
    {
      "cell_type": "code",
      "metadata": {
        "id": "L5DljRfapXqz",
        "outputId": "885f9a20-360f-45f1-ed20-54e042dcc577",
        "colab": {
          "base_uri": "https://localhost:8080/",
          "height": 204
        }
      },
      "source": [
        "data.head()"
      ],
      "execution_count": 6,
      "outputs": [
        {
          "output_type": "execute_result",
          "data": {
            "text/html": [
              "<div>\n",
              "<style scoped>\n",
              "    .dataframe tbody tr th:only-of-type {\n",
              "        vertical-align: middle;\n",
              "    }\n",
              "\n",
              "    .dataframe tbody tr th {\n",
              "        vertical-align: top;\n",
              "    }\n",
              "\n",
              "    .dataframe thead th {\n",
              "        text-align: right;\n",
              "    }\n",
              "</style>\n",
              "<table border=\"1\" class=\"dataframe\">\n",
              "  <thead>\n",
              "    <tr style=\"text-align: right;\">\n",
              "      <th></th>\n",
              "      <th>ip</th>\n",
              "      <th>app</th>\n",
              "      <th>device</th>\n",
              "      <th>os</th>\n",
              "      <th>channel</th>\n",
              "      <th>click_time</th>\n",
              "      <th>attributed_time</th>\n",
              "      <th>target</th>\n",
              "    </tr>\n",
              "  </thead>\n",
              "  <tbody>\n",
              "    <tr>\n",
              "      <th>0</th>\n",
              "      <td>87540</td>\n",
              "      <td>12</td>\n",
              "      <td>1</td>\n",
              "      <td>13</td>\n",
              "      <td>497</td>\n",
              "      <td>2017-11-07 09:30:38</td>\n",
              "      <td>NaT</td>\n",
              "      <td>0</td>\n",
              "    </tr>\n",
              "    <tr>\n",
              "      <th>1</th>\n",
              "      <td>105560</td>\n",
              "      <td>25</td>\n",
              "      <td>1</td>\n",
              "      <td>17</td>\n",
              "      <td>259</td>\n",
              "      <td>2017-11-07 13:40:27</td>\n",
              "      <td>NaT</td>\n",
              "      <td>0</td>\n",
              "    </tr>\n",
              "    <tr>\n",
              "      <th>2</th>\n",
              "      <td>101424</td>\n",
              "      <td>12</td>\n",
              "      <td>1</td>\n",
              "      <td>19</td>\n",
              "      <td>212</td>\n",
              "      <td>2017-11-07 18:05:24</td>\n",
              "      <td>NaT</td>\n",
              "      <td>0</td>\n",
              "    </tr>\n",
              "    <tr>\n",
              "      <th>3</th>\n",
              "      <td>94584</td>\n",
              "      <td>13</td>\n",
              "      <td>1</td>\n",
              "      <td>13</td>\n",
              "      <td>477</td>\n",
              "      <td>2017-11-07 04:58:08</td>\n",
              "      <td>NaT</td>\n",
              "      <td>0</td>\n",
              "    </tr>\n",
              "    <tr>\n",
              "      <th>4</th>\n",
              "      <td>68413</td>\n",
              "      <td>12</td>\n",
              "      <td>1</td>\n",
              "      <td>1</td>\n",
              "      <td>178</td>\n",
              "      <td>2017-11-09 09:00:09</td>\n",
              "      <td>NaT</td>\n",
              "      <td>0</td>\n",
              "    </tr>\n",
              "  </tbody>\n",
              "</table>\n",
              "</div>"
            ],
            "text/plain": [
              "       ip app device  os channel          click_time attributed_time target\n",
              "0   87540  12      1  13     497 2017-11-07 09:30:38             NaT      0\n",
              "1  105560  25      1  17     259 2017-11-07 13:40:27             NaT      0\n",
              "2  101424  12      1  19     212 2017-11-07 18:05:24             NaT      0\n",
              "3   94584  13      1  13     477 2017-11-07 04:58:08             NaT      0\n",
              "4   68413  12      1   1     178 2017-11-09 09:00:09             NaT      0"
            ]
          },
          "metadata": {
            "tags": []
          },
          "execution_count": 6
        }
      ]
    },
    {
      "cell_type": "code",
      "metadata": {
        "id": "4S62DgempXq0",
        "outputId": "57d3a476-22e0-4b6b-a49a-072a1ce8a4fa",
        "colab": {
          "base_uri": "https://localhost:8080/"
        }
      },
      "source": [
        "data.isna().sum()"
      ],
      "execution_count": 7,
      "outputs": [
        {
          "output_type": "execute_result",
          "data": {
            "text/plain": [
              "ip                     0\n",
              "app                    0\n",
              "device                 0\n",
              "os                     0\n",
              "channel                0\n",
              "click_time             0\n",
              "attributed_time    99773\n",
              "target                 0\n",
              "dtype: int64"
            ]
          },
          "metadata": {
            "tags": []
          },
          "execution_count": 7
        }
      ]
    },
    {
      "cell_type": "code",
      "metadata": {
        "id": "tMhkzlGApXq0"
      },
      "source": [
        "# Alterando variável is_attributed\n",
        "# 0 -> True -> Fraude\n",
        "# 1 -> False -> Não Fraude\n",
        "data.loc[data.target == \"0\", target] = True\n",
        "data.loc[data.target == \"1\", target] = False"
      ],
      "execution_count": 8,
      "outputs": []
    },
    {
      "cell_type": "code",
      "metadata": {
        "id": "fYIIlkjFpXq1"
      },
      "source": [
        "# Encoding variável target\n",
        "le_target = LabelEncoder()\n",
        "le_target.fit(data.target)\n",
        "data[target] = le_target.transform(data.target)"
      ],
      "execution_count": 9,
      "outputs": []
    },
    {
      "cell_type": "markdown",
      "metadata": {
        "id": "1X-McTeEpXq1"
      },
      "source": [
        "## Modelo Versão 1 (Base)"
      ]
    },
    {
      "cell_type": "markdown",
      "metadata": {
        "id": "iWuV1yQrpXq2"
      },
      "source": [
        "### Pré-processamento"
      ]
    },
    {
      "cell_type": "code",
      "metadata": {
        "id": "jS94HZdZpXq2"
      },
      "source": [
        "# Removendo colunas que não serão utilizadas\n",
        "df_base = data.copy()\n",
        "df_base = df_base.drop([\"click_time\", \"attributed_time\"], axis=1)"
      ],
      "execution_count": 10,
      "outputs": []
    },
    {
      "cell_type": "markdown",
      "metadata": {
        "id": "_J9wDSLNpXq2"
      },
      "source": [
        "### Balanceamento das classes"
      ]
    },
    {
      "cell_type": "code",
      "metadata": {
        "id": "PglOAL8zpXq2",
        "outputId": "fec2ee5b-0227-4d89-f48a-3231812be6cb",
        "colab": {
          "base_uri": "https://localhost:8080/"
        }
      },
      "source": [
        "# Realizando a divisão dos dados em treino e teste\n",
        "inputs = ['ip', 'app', 'device', 'os', 'channel']\n",
        "X_train, X_test, y_train, y_test = split_dataset(df_base, inputs)\n",
        "\n",
        "# Verificando as dimensões de cada dataset gerado no split\n",
        "print(X_train.shape, y_train.shape)\n",
        "print(X_test.shape, y_test.shape)"
      ],
      "execution_count": 11,
      "outputs": [
        {
          "output_type": "stream",
          "text": [
            "(70000, 5) (70000, 1)\n",
            "(30000, 5) (30000, 1)\n"
          ],
          "name": "stdout"
        }
      ]
    },
    {
      "cell_type": "code",
      "metadata": {
        "id": "ADk188zjpXq3"
      },
      "source": [
        "# Transformando os splits em dataframes\n",
        "df_base_train = pd.DataFrame(data=X_train, columns=inputs)\n",
        "df_base_test = pd.DataFrame(data=X_test, columns=inputs)\n",
        "\n",
        "# Aplicando o balanceamento nos dados de treino\n",
        "# Realiza o encoding nas variáveis categóricas utilizando o Label Encoder\n",
        "df_base_train, test_base = le_transform_inputs(df_base, df_base_train[inputs], df_base_test[inputs], inputs)\n",
        "\n",
        "# Adicionando a váriavel target nos dataframes\n",
        "df_base_train[target] = y_train\n",
        "test_base[target] = y_test"
      ],
      "execution_count": 12,
      "outputs": []
    },
    {
      "cell_type": "code",
      "metadata": {
        "id": "1-FntLOGpXq3",
        "outputId": "d9ade98b-168b-4ab9-9480-31194937cdbe",
        "colab": {
          "base_uri": "https://localhost:8080/"
        }
      },
      "source": [
        "# Aplicando balanceamento com SMOTE\n",
        "X_smote, y_smote = smote_dataset(df_base_train, target)\n",
        "\n",
        "train_base = pd.concat([pd.DataFrame(X_smote), pd.DataFrame(y_smote)], axis = 1)\n",
        "train_base.columns = ['ip', 'app', 'device', 'os', 'channel', 'target']\n",
        "\n",
        "perc = train_base[target].value_counts(normalize=True)\n",
        "count = train_base[target].value_counts()\n",
        "\n",
        "print(\"Cliques considerados FRAUDE: {:.3f}% ({})\".format(perc[0] * 100, count[0]))\n",
        "print(\"Cliques considerado NÃO FRAUDE: {:.3f}% ({})\".format(perc[1] * 100, count[1]))"
      ],
      "execution_count": 13,
      "outputs": [
        {
          "output_type": "stream",
          "text": [
            "/usr/local/lib/python3.7/dist-packages/sklearn/utils/deprecation.py:87: FutureWarning: Function safe_indexing is deprecated; safe_indexing is deprecated in version 0.22 and will be removed in version 0.24.\n",
            "  warnings.warn(msg, category=FutureWarning)\n"
          ],
          "name": "stderr"
        },
        {
          "output_type": "stream",
          "text": [
            "Cliques considerados FRAUDE: 50.000% (69822)\n",
            "Cliques considerado NÃO FRAUDE: 50.000% (69822)\n"
          ],
          "name": "stdout"
        }
      ]
    },
    {
      "cell_type": "markdown",
      "metadata": {
        "id": "k0YHaFVzpXq4"
      },
      "source": [
        "### Criação do modelo"
      ]
    },
    {
      "cell_type": "code",
      "metadata": {
        "id": "58-Pj9vDpXq4",
        "outputId": "e67d9241-f947-4576-dc9f-d94fcc5f0afd",
        "colab": {
          "base_uri": "https://localhost:8080/"
        }
      },
      "source": [
        "# Criando e treinando o modelo\n",
        "x = train_base.iloc[:,:5].values\n",
        "y = train_base[target].values\n",
        "\n",
        "model_base = RandomForestClassifier(random_state=seed)\n",
        "model_base.fit(x, y.ravel())"
      ],
      "execution_count": 14,
      "outputs": [
        {
          "output_type": "execute_result",
          "data": {
            "text/plain": [
              "RandomForestClassifier(bootstrap=True, ccp_alpha=0.0, class_weight=None,\n",
              "                       criterion='gini', max_depth=None, max_features='auto',\n",
              "                       max_leaf_nodes=None, max_samples=None,\n",
              "                       min_impurity_decrease=0.0, min_impurity_split=None,\n",
              "                       min_samples_leaf=1, min_samples_split=2,\n",
              "                       min_weight_fraction_leaf=0.0, n_estimators=100,\n",
              "                       n_jobs=None, oob_score=False, random_state=1997,\n",
              "                       verbose=0, warm_start=False)"
            ]
          },
          "metadata": {
            "tags": []
          },
          "execution_count": 14
        }
      ]
    },
    {
      "cell_type": "markdown",
      "metadata": {
        "id": "bOrv2mOapXq4"
      },
      "source": [
        "### Métricas"
      ]
    },
    {
      "cell_type": "code",
      "metadata": {
        "id": "sbQPjVBjpXq4",
        "outputId": "d9c43ffa-d4b1-49b2-bad4-21b98ea9ec71",
        "colab": {
          "base_uri": "https://localhost:8080/",
          "height": 762
        }
      },
      "source": [
        "# Realizando previsões e calculando métricas\n",
        "x_test = test_base.iloc[:,:5].values\n",
        "y_test = test_base[target].values\n",
        "\n",
        "prediction_and_metrics(model_base, x_test, y_test.ravel())"
      ],
      "execution_count": 15,
      "outputs": [
        {
          "output_type": "stream",
          "text": [
            "Starting prediction and metrics calculation\n",
            "\n",
            "Matthews Correlation Coefficient (MCC): 0.28160156594151026\n",
            "Accuracy Score: 0.9957333333333334\n",
            "Precision Score: 0.9990962948087158\n",
            "Negative Predictive Score: 0.17886178861788618\n",
            "Recall Positivo/Sensitivity Score: 0.9966278254482321\n",
            "Recall Negativo/Specificity Score: 0.4489795918367347\n",
            "F1 Score: 0.997860533529451\n",
            "\n",
            "CONFUSION MATRIX\n"
          ],
          "name": "stdout"
        },
        {
          "output_type": "display_data",
          "data": {
            "image/png": "[encoded data removed]",
            "text/plain": [
              "<Figure size 432x288 with 2 Axes>"
            ]
          },
          "metadata": {
            "tags": [],
            "needs_background": "light"
          }
        },
        {
          "output_type": "stream",
          "text": [
            "\n",
            "ROC CURVE\n"
          ],
          "name": "stdout"
        },
        {
          "output_type": "display_data",
          "data": {
            "image/png": "[encoded data removed]",
            "text/plain": [
              "<Figure size 432x288 with 1 Axes>"
            ]
          },
          "metadata": {
            "tags": [],
            "needs_background": "light"
          }
        }
      ]
    },
    {
      "cell_type": "markdown",
      "metadata": {
        "id": "NDWHfCx-pXq5"
      },
      "source": [
        "## Modelo Versão 2"
      ]
    },
    {
      "cell_type": "markdown",
      "metadata": {
        "id": "tjdW-2rTpXq6"
      },
      "source": [
        "### Pré-processamento"
      ]
    },
    {
      "cell_type": "code",
      "metadata": {
        "id": "eKGoisWSpXq6",
        "outputId": "c1a192d1-f1e5-444f-b75c-06184b289cbf",
        "colab": {
          "base_uri": "https://localhost:8080/",
          "height": 204
        }
      },
      "source": [
        "# Adicionando variáveis de tempo\n",
        "df_model_2 = data.copy()\n",
        "df_model_2[\"hour\"] = df_model_2[\"click_time\"].dt.hour.astype('uint8')\n",
        "df_model_2[\"minute\"] = df_model_2[\"click_time\"].dt.minute.astype('uint8')\n",
        "df_model_2[\"second\"] = df_model_2[\"click_time\"].dt.second.astype('uint8')\n",
        "df_model_2[\"dayofweek\"] = df_model_2[\"click_time\"].dt.dayofweek.astype('uint8')\n",
        "\n",
        "df_model_2 = df_model_2.drop([\"click_time\", \"attributed_time\"], axis=1)\n",
        "\n",
        "df_model_2.head()"
      ],
      "execution_count": 16,
      "outputs": [
        {
          "output_type": "execute_result",
          "data": {
            "text/html": [
              "<div>\n",
              "<style scoped>\n",
              "    .dataframe tbody tr th:only-of-type {\n",
              "        vertical-align: middle;\n",
              "    }\n",
              "\n",
              "    .dataframe tbody tr th {\n",
              "        vertical-align: top;\n",
              "    }\n",
              "\n",
              "    .dataframe thead th {\n",
              "        text-align: right;\n",
              "    }\n",
              "</style>\n",
              "<table border=\"1\" class=\"dataframe\">\n",
              "  <thead>\n",
              "    <tr style=\"text-align: right;\">\n",
              "      <th></th>\n",
              "      <th>ip</th>\n",
              "      <th>app</th>\n",
              "      <th>device</th>\n",
              "      <th>os</th>\n",
              "      <th>channel</th>\n",
              "      <th>target</th>\n",
              "      <th>hour</th>\n",
              "      <th>minute</th>\n",
              "      <th>second</th>\n",
              "      <th>dayofweek</th>\n",
              "    </tr>\n",
              "  </thead>\n",
              "  <tbody>\n",
              "    <tr>\n",
              "      <th>0</th>\n",
              "      <td>87540</td>\n",
              "      <td>12</td>\n",
              "      <td>1</td>\n",
              "      <td>13</td>\n",
              "      <td>497</td>\n",
              "      <td>1</td>\n",
              "      <td>9</td>\n",
              "      <td>30</td>\n",
              "      <td>38</td>\n",
              "      <td>1</td>\n",
              "    </tr>\n",
              "    <tr>\n",
              "      <th>1</th>\n",
              "      <td>105560</td>\n",
              "      <td>25</td>\n",
              "      <td>1</td>\n",
              "      <td>17</td>\n",
              "      <td>259</td>\n",
              "      <td>1</td>\n",
              "      <td>13</td>\n",
              "      <td>40</td>\n",
              "      <td>27</td>\n",
              "      <td>1</td>\n",
              "    </tr>\n",
              "    <tr>\n",
              "      <th>2</th>\n",
              "      <td>101424</td>\n",
              "      <td>12</td>\n",
              "      <td>1</td>\n",
              "      <td>19</td>\n",
              "      <td>212</td>\n",
              "      <td>1</td>\n",
              "      <td>18</td>\n",
              "      <td>5</td>\n",
              "      <td>24</td>\n",
              "      <td>1</td>\n",
              "    </tr>\n",
              "    <tr>\n",
              "      <th>3</th>\n",
              "      <td>94584</td>\n",
              "      <td>13</td>\n",
              "      <td>1</td>\n",
              "      <td>13</td>\n",
              "      <td>477</td>\n",
              "      <td>1</td>\n",
              "      <td>4</td>\n",
              "      <td>58</td>\n",
              "      <td>8</td>\n",
              "      <td>1</td>\n",
              "    </tr>\n",
              "    <tr>\n",
              "      <th>4</th>\n",
              "      <td>68413</td>\n",
              "      <td>12</td>\n",
              "      <td>1</td>\n",
              "      <td>1</td>\n",
              "      <td>178</td>\n",
              "      <td>1</td>\n",
              "      <td>9</td>\n",
              "      <td>0</td>\n",
              "      <td>9</td>\n",
              "      <td>3</td>\n",
              "    </tr>\n",
              "  </tbody>\n",
              "</table>\n",
              "</div>"
            ],
            "text/plain": [
              "       ip app device  os channel  target  hour  minute  second  dayofweek\n",
              "0   87540  12      1  13     497       1     9      30      38          1\n",
              "1  105560  25      1  17     259       1    13      40      27          1\n",
              "2  101424  12      1  19     212       1    18       5      24          1\n",
              "3   94584  13      1  13     477       1     4      58       8          1\n",
              "4   68413  12      1   1     178       1     9       0       9          3"
            ]
          },
          "metadata": {
            "tags": []
          },
          "execution_count": 16
        }
      ]
    },
    {
      "cell_type": "markdown",
      "metadata": {
        "id": "BQUvsF_mpXq6"
      },
      "source": [
        "### Balanceamento das classes"
      ]
    },
    {
      "cell_type": "code",
      "metadata": {
        "id": "hd8sRVmCpXq6",
        "outputId": "85565644-f16a-4eae-d1d4-8036569f567e",
        "colab": {
          "base_uri": "https://localhost:8080/"
        }
      },
      "source": [
        "# Realizando a divisão dos dados em treino e teste\n",
        "inputs = ['ip', 'app', 'device', 'os', 'channel', 'hour', 'minute', 'second', 'dayofweek']\n",
        "X_train, X_test, y_train, y_test = split_dataset(df_model_2, inputs)\n",
        "\n",
        "# Transformando arrays em dataframes\n",
        "df_model_2_train = pd.DataFrame(data=X_train, columns=inputs)\n",
        "df_model_2_test = pd.DataFrame(data=X_test, columns=inputs)\n",
        "\n",
        "# Encoding das variáveis categóricas utilizando o Label Encoder\n",
        "cat_col = ['ip', 'app', 'device', 'os', 'channel', 'dayofweek']\n",
        "train_model_2, test_model_2 = le_transform_inputs(df_model_2, df_model_2_train.loc[:,cat_col], df_model_2_test.loc[:,cat_col], cat_col)\n",
        "\n",
        "# Adicionando as variáveis numéricas nos dataframes\n",
        "num_col = [\"hour\", \"minute\", \"second\"]\n",
        "for c in num_col:\n",
        "    train_model_2[c] = df_model_2_train.loc[:,c]\n",
        "    test_model_2[c] = df_model_2_test.loc[:,c]\n",
        "    \n",
        "# Adicionando a váriavel target nos dataframes\n",
        "train_model_2[target] = y_train\n",
        "test_model_2[target] = y_test\n",
        "\n",
        "# # Aplicando smote\n",
        "X_smote, y_smote = smote_dataset(train_model_2, target)\n",
        "train_model_2 = pd.concat([pd.DataFrame(X_smote), pd.DataFrame(y_smote)], axis = 1)\n",
        "\n",
        "train_model_2.columns = ['ip', 'app', 'device', 'os', 'channel', 'hour', 'minute', 'second', 'dayofweek', \"target\"]\n",
        "test_model_2.columns = ['ip', 'app', 'device', 'os', 'channel', 'hour', 'minute', 'second', 'dayofweek', \"target\"]"
      ],
      "execution_count": 17,
      "outputs": [
        {
          "output_type": "stream",
          "text": [
            "/usr/local/lib/python3.7/dist-packages/sklearn/utils/deprecation.py:87: FutureWarning: Function safe_indexing is deprecated; safe_indexing is deprecated in version 0.22 and will be removed in version 0.24.\n",
            "  warnings.warn(msg, category=FutureWarning)\n"
          ],
          "name": "stderr"
        }
      ]
    },
    {
      "cell_type": "code",
      "metadata": {
        "id": "9yZrZLAn6ExZ",
        "outputId": "f0ac9fe3-1688-4317-b03f-ecff746d0535",
        "colab": {
          "base_uri": "https://localhost:8080/"
        }
      },
      "source": [
        "\n",
        "train_model_2.columns"
      ],
      "execution_count": 18,
      "outputs": [
        {
          "output_type": "execute_result",
          "data": {
            "text/plain": [
              "Index(['ip', 'app', 'device', 'os', 'channel', 'hour', 'minute', 'second',\n",
              "       'dayofweek', 'target'],\n",
              "      dtype='object')"
            ]
          },
          "metadata": {
            "tags": []
          },
          "execution_count": 18
        }
      ]
    },
    {
      "cell_type": "markdown",
      "metadata": {
        "id": "F0gkJaRqpXq7"
      },
      "source": [
        "### Criação do modelo"
      ]
    },
    {
      "cell_type": "code",
      "metadata": {
        "id": "5G-MLJ8YpXq8",
        "outputId": "595f137c-131a-403c-d130-20aa4383bcd3",
        "colab": {
          "base_uri": "https://localhost:8080/"
        }
      },
      "source": [
        "# Criando e treinando o modelo\n",
        "x = train_model_2.iloc[:,:9].values\n",
        "y = train_model_2[\"target\"].values\n",
        "\n",
        "model_v2 = RandomForestClassifier(random_state=seed)\n",
        "model_v2.fit(x, y.ravel())"
      ],
      "execution_count": 19,
      "outputs": [
        {
          "output_type": "execute_result",
          "data": {
            "text/plain": [
              "RandomForestClassifier(bootstrap=True, ccp_alpha=0.0, class_weight=None,\n",
              "                       criterion='gini', max_depth=None, max_features='auto',\n",
              "                       max_leaf_nodes=None, max_samples=None,\n",
              "                       min_impurity_decrease=0.0, min_impurity_split=None,\n",
              "                       min_samples_leaf=1, min_samples_split=2,\n",
              "                       min_weight_fraction_leaf=0.0, n_estimators=100,\n",
              "                       n_jobs=None, oob_score=False, random_state=1997,\n",
              "                       verbose=0, warm_start=False)"
            ]
          },
          "metadata": {
            "tags": []
          },
          "execution_count": 19
        }
      ]
    },
    {
      "cell_type": "markdown",
      "metadata": {
        "id": "1ps_jliDpXq8"
      },
      "source": [
        "### Métricas"
      ]
    },
    {
      "cell_type": "code",
      "metadata": {
        "id": "LaLsdfr1pXq8",
        "outputId": "60fe7891-e292-4921-b664-c116672d68ad",
        "colab": {
          "base_uri": "https://localhost:8080/",
          "height": 762
        }
      },
      "source": [
        "# Realizando previsões e calculando métricas\n",
        "x_test = test_model_2.iloc[:,:9].values\n",
        "y_test = test_model_2[target].values\n",
        "\n",
        "prediction_and_metrics(model_v2, x_test, y_test.ravel())"
      ],
      "execution_count": 20,
      "outputs": [
        {
          "output_type": "stream",
          "text": [
            "Starting prediction and metrics calculation\n",
            "\n",
            "Matthews Correlation Coefficient (MCC): 0.22763120149793098\n",
            "Accuracy Score: 0.9977333333333334\n",
            "Precision Score: 0.9986983078001401\n",
            "Negative Predictive Score: 0.2564102564102564\n",
            "Recall Positivo/Sensitivity Score: 0.9990317518613736\n",
            "Recall Negativo/Specificity Score: 0.20408163265306123\n",
            "F1 Score: 0.9988650020029376\n",
            "\n",
            "CONFUSION MATRIX\n"
          ],
          "name": "stdout"
        },
        {
          "output_type": "display_data",
          "data": {
            "image/png": "[encoded data removed]",
            "text/plain": [
              "<Figure size 432x288 with 2 Axes>"
            ]
          },
          "metadata": {
            "tags": [],
            "needs_background": "light"
          }
        },
        {
          "output_type": "stream",
          "text": [
            "\n",
            "ROC CURVE\n"
          ],
          "name": "stdout"
        },
        {
          "output_type": "display_data",
          "data": {
            "image/png": "[encoded data removed]",
            "text/plain": [
              "<Figure size 432x288 with 1 Axes>"
            ]
          },
          "metadata": {
            "tags": [],
            "needs_background": "light"
          }
        }
      ]
    },
    {
      "cell_type": "markdown",
      "metadata": {
        "id": "4xzgVy4upXq9"
      },
      "source": [
        "### Feature Importance"
      ]
    },
    {
      "cell_type": "markdown",
      "metadata": {
        "id": "0Tnv--z9pXq9"
      },
      "source": [
        "#### Feature importance do modelo Random Forest"
      ]
    },
    {
      "cell_type": "code",
      "metadata": {
        "id": "QfmUNTOQpXq9"
      },
      "source": [
        "# Extraindo a importância\n",
        "importances = model_v2.feature_importances_\n",
        "indices = np.argsort(importances)[::-1]\n",
        "# print(indices)\n",
        "# print(importances)"
      ],
      "execution_count": 21,
      "outputs": []
    },
    {
      "cell_type": "code",
      "metadata": {
        "id": "c8Lkrf14pXq9",
        "outputId": "a5668eca-2bfe-4623-a0a0-72123a2e1562",
        "colab": {
          "base_uri": "https://localhost:8080/"
        }
      },
      "source": [
        "columns = train_model_2.columns[:-1]\n",
        "for f in range(X_test.shape[1]):\n",
        "    idx = indices[f]\n",
        "    print(f\"{f}. feature {idx} - {columns[idx]} ({importances[idx]})\")"
      ],
      "execution_count": 22,
      "outputs": [
        {
          "output_type": "stream",
          "text": [
            "0. feature 2 - device (0.2697267067709936)\n",
            "1. feature 1 - app (0.2529375749038954)\n",
            "2. feature 0 - ip (0.1348357647578543)\n",
            "3. feature 3 - os (0.11727207760064014)\n",
            "4. feature 4 - channel (0.0785194381401339)\n",
            "5. feature 5 - hour (0.07304431473909208)\n",
            "6. feature 6 - minute (0.031669300740728525)\n",
            "7. feature 8 - dayofweek (0.02140527472396812)\n",
            "8. feature 7 - second (0.02058954762269396)\n"
          ],
          "name": "stdout"
        }
      ]
    },
    {
      "cell_type": "markdown",
      "metadata": {
        "id": "rJqEAIT0pXq-"
      },
      "source": [
        "#### Feature Importance variáveis categóricas (usando chi2)\n",
        "\n",
        "Ref: https://machinelearningmastery.com/feature-selection-with-real-and-categorical-data/"
      ]
    },
    {
      "cell_type": "code",
      "metadata": {
        "id": "s3zqbIP_pXq-",
        "outputId": "60bb4ac7-4b2a-464d-c66c-6e2d6b05c1ab",
        "colab": {
          "base_uri": "https://localhost:8080/",
          "height": 235
        }
      },
      "source": [
        "pd.set_option('display.float_format', lambda x: '%.4f' % x)\n",
        "\n",
        "cat_col = ['ip', 'app', 'device', 'os', 'channel', 'dayofweek']\n",
        "x_chi2 = train_model_2[cat_col].values\n",
        "y_chi2 = train_model_2[\"target\"].values\n",
        "\n",
        "chi_scores = chi2(x_chi2, y_chi2)\n",
        "\n",
        "scores = pd.Series(chi_scores[0], index=cat_col)\n",
        "pvalues = pd.Series(chi_scores[1], index=cat_col)\n",
        "\n",
        "pd.DataFrame({'Chi2':scores, 'p-Value':pvalues})"
      ],
      "execution_count": 23,
      "outputs": [
        {
          "output_type": "execute_result",
          "data": {
            "text/html": [
              "<div>\n",
              "<style scoped>\n",
              "    .dataframe tbody tr th:only-of-type {\n",
              "        vertical-align: middle;\n",
              "    }\n",
              "\n",
              "    .dataframe tbody tr th {\n",
              "        vertical-align: top;\n",
              "    }\n",
              "\n",
              "    .dataframe thead th {\n",
              "        text-align: right;\n",
              "    }\n",
              "</style>\n",
              "<table border=\"1\" class=\"dataframe\">\n",
              "  <thead>\n",
              "    <tr style=\"text-align: right;\">\n",
              "      <th></th>\n",
              "      <th>Chi2</th>\n",
              "      <th>p-Value</th>\n",
              "    </tr>\n",
              "  </thead>\n",
              "  <tbody>\n",
              "    <tr>\n",
              "      <th>ip</th>\n",
              "      <td>3303664.9675</td>\n",
              "      <td>0.0000</td>\n",
              "    </tr>\n",
              "    <tr>\n",
              "      <th>app</th>\n",
              "      <td>66741.7049</td>\n",
              "      <td>0.0000</td>\n",
              "    </tr>\n",
              "    <tr>\n",
              "      <th>device</th>\n",
              "      <td>167377.6945</td>\n",
              "      <td>0.0000</td>\n",
              "    </tr>\n",
              "    <tr>\n",
              "      <th>os</th>\n",
              "      <td>1041.1781</td>\n",
              "      <td>0.0000</td>\n",
              "    </tr>\n",
              "    <tr>\n",
              "      <th>channel</th>\n",
              "      <td>97534.8732</td>\n",
              "      <td>0.0000</td>\n",
              "    </tr>\n",
              "    <tr>\n",
              "      <th>dayofweek</th>\n",
              "      <td>752.2140</td>\n",
              "      <td>0.0000</td>\n",
              "    </tr>\n",
              "  </tbody>\n",
              "</table>\n",
              "</div>"
            ],
            "text/plain": [
              "                  Chi2  p-Value\n",
              "ip        3303664.9675   0.0000\n",
              "app         66741.7049   0.0000\n",
              "device     167377.6945   0.0000\n",
              "os           1041.1781   0.0000\n",
              "channel     97534.8732   0.0000\n",
              "dayofweek     752.2140   0.0000"
            ]
          },
          "metadata": {
            "tags": []
          },
          "execution_count": 23
        }
      ]
    },
    {
      "cell_type": "markdown",
      "metadata": {
        "id": "Qh4GD2yopXq-"
      },
      "source": [
        "- Quanto maior o Chi2 e menor o p-value mais dependente o atributo é da váriavel target"
      ]
    },
    {
      "cell_type": "markdown",
      "metadata": {
        "id": "LeW1nUuZpXq-"
      },
      "source": [
        "#### Feature Importance variáveis numéricas (usando ANOVA)\n",
        "\n",
        "Ref: https://machinelearningmastery.com/feature-selection-with-real-and-categorical-data/"
      ]
    },
    {
      "cell_type": "code",
      "metadata": {
        "id": "kKqjwOK6pXq_"
      },
      "source": [
        "# Calculando a estatística com ANOVA\n",
        "aov = []\n",
        "for variance in train_model_2.columns[:9]:\n",
        "    v = pg.anova(data=train_model_2, dv='target', between=variance, detailed=True).round(3)\n",
        "    aov.append(v)"
      ],
      "execution_count": 24,
      "outputs": []
    },
    {
      "cell_type": "code",
      "metadata": {
        "id": "ZNgBRYTUpXq_",
        "outputId": "4d12d1dd-20d0-4fb9-9608-9273b40f94e3",
        "colab": {
          "base_uri": "https://localhost:8080/",
          "height": 328
        }
      },
      "source": [
        "aov_result = pd.concat(aov)\n",
        "aov_result = aov_result[aov_result.Source != \"Within\"][['Source', 'F']]\n",
        "aov_result.sort_values(by=\"F\", ascending=False)"
      ],
      "execution_count": 25,
      "outputs": [
        {
          "output_type": "execute_result",
          "data": {
            "text/html": [
              "<div>\n",
              "<style scoped>\n",
              "    .dataframe tbody tr th:only-of-type {\n",
              "        vertical-align: middle;\n",
              "    }\n",
              "\n",
              "    .dataframe tbody tr th {\n",
              "        vertical-align: top;\n",
              "    }\n",
              "\n",
              "    .dataframe thead th {\n",
              "        text-align: right;\n",
              "    }\n",
              "</style>\n",
              "<table border=\"1\" class=\"dataframe\">\n",
              "  <thead>\n",
              "    <tr style=\"text-align: right;\">\n",
              "      <th></th>\n",
              "      <th>Source</th>\n",
              "      <th>F</th>\n",
              "    </tr>\n",
              "  </thead>\n",
              "  <tbody>\n",
              "    <tr>\n",
              "      <th>0</th>\n",
              "      <td>app</td>\n",
              "      <td>50.7390</td>\n",
              "    </tr>\n",
              "    <tr>\n",
              "      <th>0</th>\n",
              "      <td>dayofweek</td>\n",
              "      <td>48.1390</td>\n",
              "    </tr>\n",
              "    <tr>\n",
              "      <th>0</th>\n",
              "      <td>channel</td>\n",
              "      <td>42.7740</td>\n",
              "    </tr>\n",
              "    <tr>\n",
              "      <th>0</th>\n",
              "      <td>ip</td>\n",
              "      <td>37.4390</td>\n",
              "    </tr>\n",
              "    <tr>\n",
              "      <th>0</th>\n",
              "      <td>second</td>\n",
              "      <td>25.4100</td>\n",
              "    </tr>\n",
              "    <tr>\n",
              "      <th>0</th>\n",
              "      <td>os</td>\n",
              "      <td>11.1840</td>\n",
              "    </tr>\n",
              "    <tr>\n",
              "      <th>0</th>\n",
              "      <td>minute</td>\n",
              "      <td>10.3440</td>\n",
              "    </tr>\n",
              "    <tr>\n",
              "      <th>0</th>\n",
              "      <td>device</td>\n",
              "      <td>1.8550</td>\n",
              "    </tr>\n",
              "    <tr>\n",
              "      <th>0</th>\n",
              "      <td>hour</td>\n",
              "      <td>1.6210</td>\n",
              "    </tr>\n",
              "  </tbody>\n",
              "</table>\n",
              "</div>"
            ],
            "text/plain": [
              "      Source       F\n",
              "0        app 50.7390\n",
              "0  dayofweek 48.1390\n",
              "0    channel 42.7740\n",
              "0         ip 37.4390\n",
              "0     second 25.4100\n",
              "0         os 11.1840\n",
              "0     minute 10.3440\n",
              "0     device  1.8550\n",
              "0       hour  1.6210"
            ]
          },
          "metadata": {
            "tags": []
          },
          "execution_count": 25
        }
      ]
    },
    {
      "cell_type": "markdown",
      "metadata": {
        "id": "XkIEOh78pXrA"
      },
      "source": [
        "- Quanto maior o valor de F maior a evidência de que as variáveis são diferentes e exercem influência uma sobre a outra"
      ]
    },
    {
      "cell_type": "markdown",
      "metadata": {
        "id": "athCwGH7pXrA"
      },
      "source": [
        "## Modelo versão 3"
      ]
    },
    {
      "cell_type": "markdown",
      "metadata": {
        "id": "Sve3qtaepXrA"
      },
      "source": [
        "- Com base nos testes de Feature Importance o modelo três conterá as seguintes váriaveis:\n",
        "    - ip\n",
        "    - app\n",
        "    - os\n",
        "    - device\n",
        "    - channel\n",
        "    - dayofweek"
      ]
    },
    {
      "cell_type": "markdown",
      "metadata": {
        "id": "mRFiqgRJpXrA"
      },
      "source": [
        "### Pré-processamento"
      ]
    },
    {
      "cell_type": "code",
      "metadata": {
        "id": "S1wNfkTcpXrB"
      },
      "source": [
        "train_model_3 = train_model_2.copy()\n",
        "test_model_3 = test_model_2.copy()\n",
        "\n",
        "cols = [\"ip\", \"app\", \"os\", \"device\", \"channel\", \"dayofweek\", \"target\"]\n",
        "train_model_3 = train_model_3.loc[:,cols]\n",
        "test_model_3 = test_model_3.loc[:,cols]"
      ],
      "execution_count": 26,
      "outputs": []
    },
    {
      "cell_type": "markdown",
      "metadata": {
        "id": "G-mcOkFFpXrB"
      },
      "source": [
        "### Criação do modelo"
      ]
    },
    {
      "cell_type": "code",
      "metadata": {
        "id": "fCVjNoglpXrB",
        "outputId": "73b18edf-de8f-4f55-84c9-ce395f80dc94",
        "colab": {
          "base_uri": "https://localhost:8080/"
        }
      },
      "source": [
        "# Criando e treinando o modelo\n",
        "x = train_model_3.iloc[:,:6].values\n",
        "y = train_model_3[\"target\"].values\n",
        "\n",
        "model_v3 = RandomForestClassifier(random_state=seed)\n",
        "model_v3.fit(x, y.ravel())"
      ],
      "execution_count": 27,
      "outputs": [
        {
          "output_type": "execute_result",
          "data": {
            "text/plain": [
              "RandomForestClassifier(bootstrap=True, ccp_alpha=0.0, class_weight=None,\n",
              "                       criterion='gini', max_depth=None, max_features='auto',\n",
              "                       max_leaf_nodes=None, max_samples=None,\n",
              "                       min_impurity_decrease=0.0, min_impurity_split=None,\n",
              "                       min_samples_leaf=1, min_samples_split=2,\n",
              "                       min_weight_fraction_leaf=0.0, n_estimators=100,\n",
              "                       n_jobs=None, oob_score=False, random_state=1997,\n",
              "                       verbose=0, warm_start=False)"
            ]
          },
          "metadata": {
            "tags": []
          },
          "execution_count": 27
        }
      ]
    },
    {
      "cell_type": "markdown",
      "metadata": {
        "id": "3X7bC5OLpXrC"
      },
      "source": [
        "### Métricas"
      ]
    },
    {
      "cell_type": "code",
      "metadata": {
        "id": "-G5s2yY4pXrC",
        "outputId": "8aab972c-7541-4aa4-fedd-f7b98fe5fa2a",
        "colab": {
          "base_uri": "https://localhost:8080/",
          "height": 762
        }
      },
      "source": [
        "# Realizando previsões e calculando métricas\n",
        "x_test = test_model_3.iloc[:,:6].values\n",
        "y_test = test_model_3[target].values\n",
        "\n",
        "prediction_and_metrics(model_v3, x_test, y_test.ravel())"
      ],
      "execution_count": 28,
      "outputs": [
        {
          "output_type": "stream",
          "text": [
            "Starting prediction and metrics calculation\n",
            "\n",
            "Matthews Correlation Coefficient (MCC): 0.25905185155771265\n",
            "Accuracy Score: 0.9973333333333333\n",
            "Precision Score: 0.9988310343675896\n",
            "Negative Predictive Score: 0.23728813559322035\n",
            "Recall Positivo/Sensitivity Score: 0.9984975459917866\n",
            "Recall Negativo/Specificity Score: 0.2857142857142857\n",
            "F1 Score: 0.9986642623388767\n",
            "\n",
            "CONFUSION MATRIX\n"
          ],
          "name": "stdout"
        },
        {
          "output_type": "display_data",
          "data": {
            "image/png": "[encoded data removed]",
            "text/plain": [
              "<Figure size 432x288 with 2 Axes>"
            ]
          },
          "metadata": {
            "tags": [],
            "needs_background": "light"
          }
        },
        {
          "output_type": "stream",
          "text": [
            "\n",
            "ROC CURVE\n"
          ],
          "name": "stdout"
        },
        {
          "output_type": "display_data",
          "data": {
            "image/png": "[encoded data removed]",
            "text/plain": [
              "<Figure size 432x288 with 1 Axes>"
            ]
          },
          "metadata": {
            "tags": [],
            "needs_background": "light"
          }
        }
      ]
    },
    {
      "cell_type": "markdown",
      "metadata": {
        "id": "qAuPrhuApXrC"
      },
      "source": [
        "## Considerações Finais"
      ]
    },
    {
      "cell_type": "markdown",
      "metadata": {
        "id": "iZxKBJwbpXrD"
      },
      "source": [
        "- O modelo escolhido foi o da versão 3 por apresentar MCC e precisão maiores, bem como um aumento na assertividade de cliques NÃO FRAUDE mantendo a taxa de acertos de cliques FRAUDULENTOS alta.\n",
        "- Pontos de melhorias:\n",
        "    - Aplicação da Otimização de parâmetros no modelo criado\n",
        "    - Aprimorar o tratamento de váriaveis de tempo (Um abordagem possível: https://ianlondon.github.io/blog/encoding-cyclical-features-24hour-time/)\n",
        "    - Testar outros modelos de Classificação"
      ]
    },
    {
      "cell_type": "code",
      "metadata": {
        "id": "ne3zYUR5pXrD"
      },
      "source": [
        ""
      ],
      "execution_count": 28,
      "outputs": []
    }
  ]
}